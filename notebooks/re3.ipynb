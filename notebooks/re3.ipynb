{
  "cells": [
    {
      "cell_type": "code",
      "execution_count": null,
      "metadata": {
        "colab": {
          "base_uri": "https://localhost:8080/"
        },
        "id": "lb8HqYd9ETZB",
        "outputId": "8690fee1-9a05-442f-e28c-aef8d9fbbab6"
      },
      "outputs": [],
      "source": [
        "# setup\n",
        "\n",
        "!git clone https://github.com/yangkevin2/emnlp22-re3-story-generation\n",
        "%cd emnlp22-re3-story-generation\n",
        "!pip install -r requirements.txt\n",
        "!pip install -e ."
      ]
    },
    {
      "cell_type": "code",
      "execution_count": null,
      "metadata": {
        "colab": {
          "base_uri": "https://localhost:8080/"
        },
        "id": "NHS9SXR-_TpS",
        "outputId": "04c50260-1b92-4694-ec1f-2f4dce87f780"
      },
      "outputs": [],
      "source": [
        "# PASTE YOUR OPENAI API KEY BELOW\n",
        "\n",
        "key = \"your-api-key-here\"\n",
        "\n",
        "%env OPENAI_API_KEY=$key"
      ]
    },
    {
      "cell_type": "code",
      "execution_count": null,
      "metadata": {
        "colab": {
          "base_uri": "https://localhost:8080/"
        },
        "id": "s-n_XEWr_gcL",
        "outputId": "7974a16f-07ff-4867-f552-453e0745e347"
      },
      "outputs": [],
      "source": [
        "!wget https://emnlp22-re3-data.s3.amazonaws.com/emnlp22_re3_data.zip\n",
        "!unzip emnlp22_re3_data.zip\n",
        "!mkdir output"
      ]
    },
    {
      "cell_type": "code",
      "execution_count": null,
      "metadata": {
        "colab": {
          "base_uri": "https://localhost:8080/"
        },
        "id": "Jw60ycNpAAmo",
        "outputId": "2bdbcae4-eb47-460b-dfa5-daf31cc2d0a1"
      },
      "outputs": [],
      "source": [
        "# run re3\n",
        "\n",
        "!CUDA_VISIBLE_DEVICES=0 python -u scripts/main.py --summarizer gpt3_summarizer --controller longformer_classifier longformer_classifier --loader alignment coherence --controller-load-dir emnlp22_re3_data/ckpt/relevance_reranker emnlp22_re3_data/ckpt/coherence_reranker --controller-model-string allenai/longformer-base-4096 allenai/longformer-base-4096 --save-outline-file output/outline0.pkl --save-complete-file output/complete_story0.pkl --log-file output/story0.log"
      ]
    },
    {
      "cell_type": "code",
      "execution_count": null,
      "metadata": {
        "colab": {
          "base_uri": "https://localhost:8080/"
        },
        "id": "8fQWavWjP4Ol",
        "outputId": "ec6e9bf8-51fe-4b34-bced-b00bc2aa9cb6"
      },
      "outputs": [],
      "source": [
        "import pickle\n",
        "\n",
        "with open('output/complete_story0.pkl', 'rb') as f:\n",
        "    story = pickle.load(f)"
      ]
    },
    {
      "cell_type": "code",
      "execution_count": null,
      "metadata": {
        "colab": {
          "base_uri": "https://localhost:8080/"
        },
        "id": "gFKZixeCQxW2",
        "outputId": "64051138-6398-45ce-e858-630897f06b1e"
      },
      "outputs": [],
      "source": [
        "story[0].all_paragraphs"
      ]
    }
  ],
  "metadata": {
    "accelerator": "GPU",
    "colab": {
      "collapsed_sections": [],
      "machine_shape": "hm",
      "provenance": []
    },
    "gpuClass": "standard",
    "kernelspec": {
      "display_name": "Python 3",
      "name": "python3"
    },
    "language_info": {
      "name": "python"
    }
  },
  "nbformat": 4,
  "nbformat_minor": 0
}
